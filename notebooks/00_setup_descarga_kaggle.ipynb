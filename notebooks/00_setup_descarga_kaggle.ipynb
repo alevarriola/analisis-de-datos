{
 "cells": [
  {
   "cell_type": "code",
   "execution_count": 1,
   "id": "ea3ff7e8",
   "metadata": {},
   "outputs": [
    {
     "name": "stdout",
     "output_type": "stream",
     "text": [
      "Proyecto en: C:\\Users\\Usuario\\OneDrive\\Desktop\\Penguin\\analisis-de-datos\n",
      "Creando carpeta: C:\\Users\\Usuario\\OneDrive\\Desktop\\Penguin\\analisis-de-datos\\data\\raw\n"
     ]
    }
   ],
   "source": [
    "import os\n",
    "from pathlib import Path\n",
    "\n",
    "ROOT = Path.cwd().resolve().parent if Path.cwd().name == \"notebooks\" else Path.cwd()\n",
    "DATA_RAW = ROOT / \"data\" / \"raw\"\n",
    "DATA_RAW.mkdir(parents=True, exist_ok=True)\n",
    "\n",
    "print(\"Proyecto en:\", ROOT)\n",
    "print(\"Creando carpeta:\", DATA_RAW)"
   ]
  },
  {
   "cell_type": "code",
   "execution_count": 1,
   "id": "7fc0453f",
   "metadata": {},
   "outputs": [
    {
     "name": "stdout",
     "output_type": "stream",
     "text": [
      "Kaggle user: alejandroarriola\n"
     ]
    }
   ],
   "source": [
    "import os\n",
    "from pathlib import Path\n",
    "from dotenv import load_dotenv\n",
    "\n",
    "ROOT = Path.cwd().resolve().parent if Path.cwd().name == \"notebooks\" else Path.cwd()\n",
    "load_dotenv(ROOT / \".env\")  # busca y carga variables\n",
    "\n",
    "KAGGLE_USERNAME = os.getenv(\"KAGGLE_USERNAME\")\n",
    "KAGGLE_KEY = os.getenv(\"KAGGLE_KEY\")\n",
    "\n",
    "assert KAGGLE_USERNAME and KAGGLE_KEY, \"Faltan KAGGLE_USERNAME o KAGGLE_KEY en .env o variables de entorno.\"\n",
    "print(\"Kaggle user:\", KAGGLE_USERNAME)"
   ]
  },
  {
   "cell_type": "code",
   "execution_count": 3,
   "id": "cf910292",
   "metadata": {},
   "outputs": [
    {
     "name": "stdout",
     "output_type": "stream",
     "text": [
      "Kaggle API OK\n"
     ]
    }
   ],
   "source": [
    "from kaggle.api.kaggle_api_extended import KaggleApi\n",
    "\n",
    "api = KaggleApi()\n",
    "api.authenticate()\n",
    "print(\"Kaggle API OK\")"
   ]
  },
  {
   "cell_type": "code",
   "execution_count": 4,
   "id": "8e04e4d7",
   "metadata": {},
   "outputs": [
    {
     "name": "stdout",
     "output_type": "stream",
     "text": [
      "Destino: C:\\Users\\Usuario\\OneDrive\\Desktop\\Penguin\\analisis-de-datos\\data\\raw\\california_housing\n",
      "Descargando: camnugent/california-housing-prices\n",
      "Dataset URL: https://www.kaggle.com/datasets/camnugent/california-housing-prices\n",
      "Downloading california-housing-prices.zip to C:\\Users\\Usuario\\OneDrive\\Desktop\\Penguin\\analisis-de-datos\\data\\raw\\california_housing\n"
     ]
    },
    {
     "name": "stderr",
     "output_type": "stream",
     "text": [
      "100%|██████████| 400k/400k [00:00<00:00, 98.2MB/s]"
     ]
    },
    {
     "name": "stdout",
     "output_type": "stream",
     "text": [
      "\n",
      "Descomprimiendo: california-housing-prices.zip\n",
      "Descarga completada\n"
     ]
    },
    {
     "name": "stderr",
     "output_type": "stream",
     "text": [
      "\n"
     ]
    }
   ],
   "source": [
    "from pathlib import Path\n",
    "from kaggle.api.kaggle_api_extended import KaggleApi\n",
    "from zipfile import ZipFile\n",
    "\n",
    "# Rutas base\n",
    "ROOT = Path.cwd().resolve().parent if Path.cwd().name == \"notebooks\" else Path.cwd()\n",
    "RAW = ROOT / \"data\" / \"raw\" / \"california_housing\"\n",
    "RAW.mkdir(parents=True, exist_ok=True)\n",
    "print(\"Destino:\", RAW)\n",
    "\n",
    "# Autenticación Kaggle \n",
    "api = KaggleApi()\n",
    "api.authenticate()\n",
    "\n",
    "# Descargar ZIP del dataset a la carpeta RAW\n",
    "dataset_slug = \"camnugent/california-housing-prices\"\n",
    "print(\"Descargando:\", dataset_slug)\n",
    "api.dataset_download_files(dataset_slug, path=RAW, force=True, quiet=False)\n",
    "\n",
    "# Descomprimir el ZIP más nuevo (Kaggle usa .zip cuando hay varios archivos)\n",
    "zips = sorted(RAW.glob(\"*.zip\"), key=lambda p: p.stat().st_mtime, reverse=True)\n",
    "if zips:\n",
    "    zip_path = zips[0]\n",
    "    print(\"Descomprimiendo:\", zip_path.name)\n",
    "    with ZipFile(zip_path, \"r\") as zf:\n",
    "        zf.extractall(RAW)\n",
    "    try:\n",
    "        zip_path.unlink()\n",
    "    except Exception:\n",
    "        pass\n",
    "\n",
    "print(\"Descarga completada\")\n"
   ]
  },
  {
   "cell_type": "code",
   "execution_count": 5,
   "id": "0e182ae5",
   "metadata": {},
   "outputs": [
    {
     "data": {
      "text/html": [
       "<div>\n",
       "<style scoped>\n",
       "    .dataframe tbody tr th:only-of-type {\n",
       "        vertical-align: middle;\n",
       "    }\n",
       "\n",
       "    .dataframe tbody tr th {\n",
       "        vertical-align: top;\n",
       "    }\n",
       "\n",
       "    .dataframe thead th {\n",
       "        text-align: right;\n",
       "    }\n",
       "</style>\n",
       "<table border=\"1\" class=\"dataframe\">\n",
       "  <thead>\n",
       "    <tr style=\"text-align: right;\">\n",
       "      <th></th>\n",
       "      <th>archivo</th>\n",
       "      <th>tam_mb</th>\n",
       "    </tr>\n",
       "  </thead>\n",
       "  <tbody>\n",
       "    <tr>\n",
       "      <th>0</th>\n",
       "      <td>housing.csv</td>\n",
       "      <td>1.424</td>\n",
       "    </tr>\n",
       "  </tbody>\n",
       "</table>\n",
       "</div>"
      ],
      "text/plain": [
       "       archivo  tam_mb\n",
       "0  housing.csv   1.424"
      ]
     },
     "metadata": {},
     "output_type": "display_data"
    }
   ],
   "source": [
    "import pandas as pd\n",
    "\n",
    "def listar_archivos(carpeta: Path, exts=(\".csv\", \".parquet\", \".xls\", \".xlsx\")):\n",
    "    filas = []\n",
    "    for p in carpeta.rglob(\"*\"):\n",
    "        if p.is_file() and p.suffix.lower() in exts:\n",
    "            filas.append({\"archivo\": str(p.relative_to(carpeta)),\n",
    "                          \"tam_mb\": round(p.stat().st_size/1_000_000, 3)})\n",
    "    return pd.DataFrame(filas).sort_values(\"archivo\")\n",
    "\n",
    "display(listar_archivos(RAW))\n"
   ]
  },
  {
   "cell_type": "code",
   "execution_count": 6,
   "id": "15c63ae9",
   "metadata": {},
   "outputs": [
    {
     "name": "stdout",
     "output_type": "stream",
     "text": [
      "Leyendo: housing.csv\n"
     ]
    },
    {
     "data": {
      "text/html": [
       "<div>\n",
       "<style scoped>\n",
       "    .dataframe tbody tr th:only-of-type {\n",
       "        vertical-align: middle;\n",
       "    }\n",
       "\n",
       "    .dataframe tbody tr th {\n",
       "        vertical-align: top;\n",
       "    }\n",
       "\n",
       "    .dataframe thead th {\n",
       "        text-align: right;\n",
       "    }\n",
       "</style>\n",
       "<table border=\"1\" class=\"dataframe\">\n",
       "  <thead>\n",
       "    <tr style=\"text-align: right;\">\n",
       "      <th></th>\n",
       "      <th>longitude</th>\n",
       "      <th>latitude</th>\n",
       "      <th>housing_median_age</th>\n",
       "      <th>total_rooms</th>\n",
       "      <th>total_bedrooms</th>\n",
       "      <th>population</th>\n",
       "      <th>households</th>\n",
       "      <th>median_income</th>\n",
       "      <th>median_house_value</th>\n",
       "      <th>ocean_proximity</th>\n",
       "    </tr>\n",
       "  </thead>\n",
       "  <tbody>\n",
       "    <tr>\n",
       "      <th>0</th>\n",
       "      <td>-122.23</td>\n",
       "      <td>37.88</td>\n",
       "      <td>41.0</td>\n",
       "      <td>880.0</td>\n",
       "      <td>129.0</td>\n",
       "      <td>322.0</td>\n",
       "      <td>126.0</td>\n",
       "      <td>8.3252</td>\n",
       "      <td>452600.0</td>\n",
       "      <td>NEAR BAY</td>\n",
       "    </tr>\n",
       "    <tr>\n",
       "      <th>1</th>\n",
       "      <td>-122.22</td>\n",
       "      <td>37.86</td>\n",
       "      <td>21.0</td>\n",
       "      <td>7099.0</td>\n",
       "      <td>1106.0</td>\n",
       "      <td>2401.0</td>\n",
       "      <td>1138.0</td>\n",
       "      <td>8.3014</td>\n",
       "      <td>358500.0</td>\n",
       "      <td>NEAR BAY</td>\n",
       "    </tr>\n",
       "    <tr>\n",
       "      <th>2</th>\n",
       "      <td>-122.24</td>\n",
       "      <td>37.85</td>\n",
       "      <td>52.0</td>\n",
       "      <td>1467.0</td>\n",
       "      <td>190.0</td>\n",
       "      <td>496.0</td>\n",
       "      <td>177.0</td>\n",
       "      <td>7.2574</td>\n",
       "      <td>352100.0</td>\n",
       "      <td>NEAR BAY</td>\n",
       "    </tr>\n",
       "    <tr>\n",
       "      <th>3</th>\n",
       "      <td>-122.25</td>\n",
       "      <td>37.85</td>\n",
       "      <td>52.0</td>\n",
       "      <td>1274.0</td>\n",
       "      <td>235.0</td>\n",
       "      <td>558.0</td>\n",
       "      <td>219.0</td>\n",
       "      <td>5.6431</td>\n",
       "      <td>341300.0</td>\n",
       "      <td>NEAR BAY</td>\n",
       "    </tr>\n",
       "    <tr>\n",
       "      <th>4</th>\n",
       "      <td>-122.25</td>\n",
       "      <td>37.85</td>\n",
       "      <td>52.0</td>\n",
       "      <td>1627.0</td>\n",
       "      <td>280.0</td>\n",
       "      <td>565.0</td>\n",
       "      <td>259.0</td>\n",
       "      <td>3.8462</td>\n",
       "      <td>342200.0</td>\n",
       "      <td>NEAR BAY</td>\n",
       "    </tr>\n",
       "  </tbody>\n",
       "</table>\n",
       "</div>"
      ],
      "text/plain": [
       "   longitude  latitude  housing_median_age  total_rooms  total_bedrooms  \\\n",
       "0    -122.23     37.88                41.0        880.0           129.0   \n",
       "1    -122.22     37.86                21.0       7099.0          1106.0   \n",
       "2    -122.24     37.85                52.0       1467.0           190.0   \n",
       "3    -122.25     37.85                52.0       1274.0           235.0   \n",
       "4    -122.25     37.85                52.0       1627.0           280.0   \n",
       "\n",
       "   population  households  median_income  median_house_value ocean_proximity  \n",
       "0       322.0       126.0         8.3252            452600.0        NEAR BAY  \n",
       "1      2401.0      1138.0         8.3014            358500.0        NEAR BAY  \n",
       "2       496.0       177.0         7.2574            352100.0        NEAR BAY  \n",
       "3       558.0       219.0         5.6431            341300.0        NEAR BAY  \n",
       "4       565.0       259.0         3.8462            342200.0        NEAR BAY  "
      ]
     },
     "metadata": {},
     "output_type": "display_data"
    },
    {
     "name": "stdout",
     "output_type": "stream",
     "text": [
      "Shape: (20640, 10)\n",
      "Columnas: ['longitude', 'latitude', 'housing_median_age', 'total_rooms', 'total_bedrooms', 'population', 'households', 'median_income', 'median_house_value', 'ocean_proximity']\n"
     ]
    },
    {
     "data": {
      "text/html": [
       "<div>\n",
       "<style scoped>\n",
       "    .dataframe tbody tr th:only-of-type {\n",
       "        vertical-align: middle;\n",
       "    }\n",
       "\n",
       "    .dataframe tbody tr th {\n",
       "        vertical-align: top;\n",
       "    }\n",
       "\n",
       "    .dataframe thead th {\n",
       "        text-align: right;\n",
       "    }\n",
       "</style>\n",
       "<table border=\"1\" class=\"dataframe\">\n",
       "  <thead>\n",
       "    <tr style=\"text-align: right;\">\n",
       "      <th></th>\n",
       "      <th>dtype</th>\n",
       "    </tr>\n",
       "  </thead>\n",
       "  <tbody>\n",
       "    <tr>\n",
       "      <th>longitude</th>\n",
       "      <td>float64</td>\n",
       "    </tr>\n",
       "    <tr>\n",
       "      <th>latitude</th>\n",
       "      <td>float64</td>\n",
       "    </tr>\n",
       "    <tr>\n",
       "      <th>housing_median_age</th>\n",
       "      <td>float64</td>\n",
       "    </tr>\n",
       "    <tr>\n",
       "      <th>total_rooms</th>\n",
       "      <td>float64</td>\n",
       "    </tr>\n",
       "    <tr>\n",
       "      <th>total_bedrooms</th>\n",
       "      <td>float64</td>\n",
       "    </tr>\n",
       "    <tr>\n",
       "      <th>population</th>\n",
       "      <td>float64</td>\n",
       "    </tr>\n",
       "    <tr>\n",
       "      <th>households</th>\n",
       "      <td>float64</td>\n",
       "    </tr>\n",
       "    <tr>\n",
       "      <th>median_income</th>\n",
       "      <td>float64</td>\n",
       "    </tr>\n",
       "    <tr>\n",
       "      <th>median_house_value</th>\n",
       "      <td>float64</td>\n",
       "    </tr>\n",
       "    <tr>\n",
       "      <th>ocean_proximity</th>\n",
       "      <td>object</td>\n",
       "    </tr>\n",
       "  </tbody>\n",
       "</table>\n",
       "</div>"
      ],
      "text/plain": [
       "                      dtype\n",
       "longitude           float64\n",
       "latitude            float64\n",
       "housing_median_age  float64\n",
       "total_rooms         float64\n",
       "total_bedrooms      float64\n",
       "population          float64\n",
       "households          float64\n",
       "median_income       float64\n",
       "median_house_value  float64\n",
       "ocean_proximity      object"
      ]
     },
     "metadata": {},
     "output_type": "display_data"
    }
   ],
   "source": [
    "import pandas as pd\n",
    "\n",
    "# Detectar el primer CSV que haya\n",
    "csvs = sorted(RAW.glob(\"*.csv\"))\n",
    "assert csvs, \"No se encontraron CSVs en la carpeta de California.\"\n",
    "csv_path = csvs[0]\n",
    "print(\"Leyendo:\", csv_path.name)\n",
    "\n",
    "# Cargar el CSV con manejo de posibles errores de codificación\n",
    "try:\n",
    "    df_ca = pd.read_csv(csv_path, low_memory=False)\n",
    "except UnicodeDecodeError:\n",
    "    df_ca = pd.read_csv(csv_path, encoding=\"latin-1\", low_memory=False)\n",
    "\n",
    "display(df_ca.head(5))\n",
    "print(\"Shape:\", df_ca.shape)\n",
    "print(\"Columnas:\", list(df_ca.columns))\n",
    "display(df_ca.dtypes.to_frame(\"dtype\"))\n"
   ]
  }
 ],
 "metadata": {
  "kernelspec": {
   "display_name": ".venv",
   "language": "python",
   "name": "python3"
  },
  "language_info": {
   "codemirror_mode": {
    "name": "ipython",
    "version": 3
   },
   "file_extension": ".py",
   "mimetype": "text/x-python",
   "name": "python",
   "nbconvert_exporter": "python",
   "pygments_lexer": "ipython3",
   "version": "3.13.7"
  }
 },
 "nbformat": 4,
 "nbformat_minor": 5
}
