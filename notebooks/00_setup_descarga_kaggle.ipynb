{
 "cells": [
  {
   "cell_type": "code",
   "execution_count": 1,
   "id": "ea3ff7e8",
   "metadata": {},
   "outputs": [
    {
     "name": "stdout",
     "output_type": "stream",
     "text": [
      "Proyecto en: C:\\Users\\Usuario\\OneDrive\\Desktop\\Penguin\\analisis-de-datos\n",
      "Creando carpeta: C:\\Users\\Usuario\\OneDrive\\Desktop\\Penguin\\analisis-de-datos\\data\\raw\n"
     ]
    }
   ],
   "source": [
    "import os\n",
    "from pathlib import Path\n",
    "\n",
    "ROOT = Path.cwd().resolve().parent if Path.cwd().name == \"notebooks\" else Path.cwd()\n",
    "DATA_RAW = ROOT / \"data\" / \"raw\"\n",
    "DATA_RAW.mkdir(parents=True, exist_ok=True)\n",
    "\n",
    "print(\"Proyecto en:\", ROOT)\n",
    "print(\"Creando carpeta:\", DATA_RAW)"
   ]
  },
  {
   "cell_type": "code",
   "execution_count": 1,
   "id": "7fc0453f",
   "metadata": {},
   "outputs": [
    {
     "name": "stdout",
     "output_type": "stream",
     "text": [
      "Kaggle user: alejandroarriola\n"
     ]
    }
   ],
   "source": [
    "import os\n",
    "from pathlib import Path\n",
    "from dotenv import load_dotenv\n",
    "\n",
    "ROOT = Path.cwd().resolve().parent if Path.cwd().name == \"notebooks\" else Path.cwd()\n",
    "load_dotenv(ROOT / \".env\")  # busca y carga variables\n",
    "\n",
    "KAGGLE_USERNAME = os.getenv(\"KAGGLE_USERNAME\")\n",
    "KAGGLE_KEY = os.getenv(\"KAGGLE_KEY\")\n",
    "\n",
    "assert KAGGLE_USERNAME and KAGGLE_KEY, \"Faltan KAGGLE_USERNAME o KAGGLE_KEY en .env o variables de entorno.\"\n",
    "print(\"Kaggle user:\", KAGGLE_USERNAME)"
   ]
  },
  {
   "cell_type": "code",
   "execution_count": 3,
   "id": "cf910292",
   "metadata": {},
   "outputs": [
    {
     "name": "stdout",
     "output_type": "stream",
     "text": [
      "Kaggle API OK\n"
     ]
    }
   ],
   "source": [
    "from kaggle.api.kaggle_api_extended import KaggleApi\n",
    "\n",
    "api = KaggleApi()\n",
    "api.authenticate()\n",
    "print(\"Kaggle API OK\")"
   ]
  }
 ],
 "metadata": {
  "kernelspec": {
   "display_name": ".venv",
   "language": "python",
   "name": "python3"
  },
  "language_info": {
   "codemirror_mode": {
    "name": "ipython",
    "version": 3
   },
   "file_extension": ".py",
   "mimetype": "text/x-python",
   "name": "python",
   "nbconvert_exporter": "python",
   "pygments_lexer": "ipython3",
   "version": "3.13.7"
  }
 },
 "nbformat": 4,
 "nbformat_minor": 5
}
